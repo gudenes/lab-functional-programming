{
 "cells": [
  {
   "cell_type": "markdown",
   "metadata": {},
   "source": [
    "n the cell below, create a Python function that wraps your previous solution for the Bag of Words lab.\n",
    "\n",
    "Requirements:\n",
    "\n",
    "1. Your function should accept the following parameters:\n",
    "    * `docs` [REQUIRED] - array of document paths.\n",
    "    * `stop_words` [OPTIONAL] - array of stop words. The default value is an empty array.\n",
    "\n",
    "1. Your function should return a Python object that contains the following:\n",
    "    * `bag_of_words` - array of strings of normalized unique words in the corpus.\n",
    "    * `term_freq` - array of the term-frequency vectors."
   ]
  },
  {
   "cell_type": "code",
   "execution_count": 34,
   "metadata": {},
   "outputs": [
    {
     "data": {
      "text/plain": [
       "{'bag_of_words': ['ironhack',\n",
       "  'is',\n",
       "  'cool',\n",
       "  'i',\n",
       "  'love',\n",
       "  'am',\n",
       "  'a',\n",
       "  'student',\n",
       "  'at'],\n",
       " 'term_freq': [[1, 1, 1, 0, 0, 0, 0, 0, 0],\n",
       "  [1, 0, 0, 1, 1, 0, 0, 0, 0],\n",
       "  [1, 0, 0, 1, 0, 1, 1, 1, 1]]}"
      ]
     },
     "execution_count": 34,
     "metadata": {},
     "output_type": "execute_result"
    }
   ],
   "source": [
    "# Import required libraries\n",
    "\n",
    "import pandas as pd\n",
    "import numpy as np\n",
    "import re\n",
    "\n",
    "# Define function\n",
    "def get_bow_from_docs(docs, stop_words=[]):\n",
    "    \n",
    "    # In the function, first define the variables you will use such as `corpus`, `bag_of_words`, and `term_freq`.\n",
    "    \n",
    "    corpus = []\n",
    "    bag_of_words = []\n",
    "    term_freq = []\n",
    "    corpus2 = []\n",
    "    sub_freq = []\n",
    "    \n",
    "    \n",
    "    \n",
    "    \"\"\"\n",
    "    Loop `docs` and read the content of each doc into a string in `corpus`.\n",
    "    Remember to convert the doc content to lowercases and remove punctuation.\n",
    "    \"\"\"\n",
    "    for i in docs:\n",
    "        op = open(i,\"r\")\n",
    "        corpus.append(op.read())\n",
    "        \n",
    "    for i in corpus:\n",
    "        corpus2.append(i.lower()[:-1]) #remove last char from the string\n",
    "    \n",
    "  \n",
    "    \n",
    "    \n",
    "          \n",
    "    \"\"\"\n",
    "    #Loop `corpus`. Append the terms in each doc into the `bag_of_words` array. The terms in `bag_of_words` \n",
    "   # should be unique which means before adding each term you need to check if it's already added to the array.\n",
    "    #In addition, check if each term is in the `stop_words` array. Only append the term to `bag_of_words`\n",
    "   # if it is not a stop word.\n",
    "   # \"\"\"\n",
    "   \n",
    "    for frase in corpus2:\n",
    "        words = frase.split() #split phrase in words\n",
    "        for word in words:\n",
    "            if word not in bag_of_words and word not in stop_words: #: #add in a list if is not already there \n",
    "                bag_of_words.append(word)\n",
    "    \n",
    "    \n",
    "    \n",
    "    \"\"\"\n",
    "  #  Loop `corpus` again. For each doc string, count the number of occurrences of each term in `bag_of_words`. \n",
    "  #  Create an array for each doc's term frequency and append it to `term_freq`.\n",
    "    \"\"\"\n",
    "\n",
    "    for frase in corpus2:\n",
    "        frase = frase.split() #split phrase in words\n",
    "        sub_freq = []\n",
    "        term_freq.append(sub_freq) #put a sublist inside of term freq\n",
    "        for word in bag_of_words:\n",
    "            sub_freq.append(frase.count(word)) #start to put the numbers inside of the sub list that is alreay in the main list.\n",
    "\n",
    "    \n",
    "    \n",
    "    # Now return your output as an object\n",
    "    return {\n",
    "        \"bag_of_words\": bag_of_words,\n",
    "        \"term_freq\": term_freq\n",
    "    }\n",
    "\n",
    "\n",
    "get_bow_from_docs(['doc1.txt', 'doc2.txt', 'doc3.txt'])\n"
   ]
  },
  {
   "cell_type": "markdown",
   "metadata": {},
   "source": [
    "Test your function without stop words. You should see the output like below:\n",
    "\n",
    "```{'bag_of_words': ['ironhack', 'is', 'cool', 'i', 'love', 'am', 'a', 'student', 'at'], 'term_freq': [[1, 1, 1, 0, 0, 0, 0, 0, 0], [1, 0, 0, 1, 1, 0, 0, 0, 0], [1, 0, 0, 1, 0, 1, 1, 1, 1]]}```"
   ]
  },
  {
   "cell_type": "code",
   "execution_count": 29,
   "metadata": {},
   "outputs": [
    {
     "name": "stdout",
     "output_type": "stream",
     "text": [
      "{'bag_of_words': ['ironhack', 'is', 'cool', 'i', 'love', 'am', 'a', 'student', 'at'], 'term_freq': [[1, 1, 1, 0, 0, 0, 0, 0, 0], [1, 0, 0, 1, 1, 0, 0, 0, 0], [1, 0, 0, 1, 0, 1, 1, 1, 1]]}\n"
     ]
    }
   ],
   "source": [
    "# Define doc paths array\n",
    "docs = ['doc1.txt', 'doc2.txt', 'doc3.txt']\n",
    "\n",
    "# Obtain BoW from your function\n",
    "bow = get_bow_from_docs(docs)\n",
    "\n",
    "# Print BoW\n",
    "print(bow)"
   ]
  },
  {
   "cell_type": "markdown",
   "metadata": {},
   "source": [
    "If your attempt above is successful, nice work done!\n",
    "\n",
    "Now test your function again with the stop words. In the previous lab we defined the stop words in a large array. In this lab, we'll import the stop words from Scikit-Learn."
   ]
  },
  {
   "cell_type": "code",
   "execution_count": 30,
   "metadata": {},
   "outputs": [
    {
     "name": "stdout",
     "output_type": "stream",
     "text": [
      "frozenset({'next', 'only', 'us', 'give', 'serious', 'might', 'onto', 'own', 'so', 'above', 'someone', 'it', 'these', 'my', 'too', 'this', 'ltd', 'again', 'describe', 'several', 'third', 'inc', 'becoming', 'hereby', 'most', 'couldnt', 'of', 'whereas', 'yours', 'with', 'indeed', 'across', 're', 'though', 'an', 'were', 'another', 'down', 'show', 'however', 'amongst', 'twelve', 'ever', 'fire', 'do', 'any', 'between', 'already', 'each', 'about', 'full', 'last', 'name', 'therein', 'hence', 'there', 'towards', 'how', 'etc', 'more', 'seeming', 'where', 'get', 'his', 'never', 'will', 'nobody', 'nothing', 'same', 'your', 'have', 'one', 'namely', 'herself', 'beforehand', 'least', 'moreover', 'ourselves', 'along', 'first', 'latterly', 'him', 'thence', 'go', 'thus', 'sometime', 'please', 'seemed', 'thereupon', 'you', 'around', 'put', 'hundred', 'per', 'now', 'all', 'such', 'amoungst', 'anywhere', 'me', 'herein', 'system', 'a', 'must', 'upon', 'and', 'three', 'being', 'perhaps', 'throughout', 'yourselves', 'amount', 'be', 'fill', 'had', 'front', 'if', 'its', 'something', 'out', 'thereby', 'even', 'which', 'by', 'always', 'could', 'five', 'or', 'thick', 'none', 'i', 'he', 'them', 'well', 'becomes', 'on', 'found', 'except', 'forty', 'should', 'once', 'whereafter', 'formerly', 'interest', 'why', 'ours', 'many', 'has', 'everything', 'anything', 'those', 'done', 'everyone', 'detail', 'every', 'latter', 'whenever', 'also', 'may', 'mill', 'therefore', 'than', 'from', 'into', 'among', 'four', 'sixty', 'without', 'hereupon', 'few', 'yet', 'neither', 'fifty', 'whose', 'nowhere', 'before', 'further', 'noone', 'very', 'eight', 'elsewhere', 'whatever', 'co', 'up', 'cry', 'call', 'seem', 'they', 'seems', 'itself', 'beside', 'ie', 'since', 'mostly', 'what', 'un', 'anyway', 'whether', 'behind', 'below', 'besides', 'others', 'wherever', 'myself', 'who', 'six', 'the', 'although', 'somehow', 'former', 'whither', 'side', 'otherwise', 'move', 'almost', 'not', 'am', 'her', 'under', 'top', 'back', 'anyone', 'twenty', 'yourself', 'as', 'cannot', 'thereafter', 'thru', 'whole', 'made', 'through', 'off', 'two', 'no', 'whoever', 'she', 'wherein', 'afterwards', 'either', 'take', 'after', 'to', 'we', 'here', 'whereupon', 'hers', 'both', 'are', 'nor', 'mine', 'until', 'de', 'was', 'for', 'because', 'still', 'alone', 'beyond', 'himself', 'via', 'whence', 'due', 'else', 'then', 'sometimes', 'been', 'see', 'nevertheless', 'whom', 'often', 'that', 'can', 'much', 'find', 'together', 'empty', 'within', 'everywhere', 'at', 'against', 'become', 'hereafter', 'in', 'anyhow', 'during', 'when', 'enough', 'eg', 'their', 'themselves', 'would', 'less', 'while', 'part', 'whereby', 'cant', 'bottom', 'sincere', 'somewhere', 'meanwhile', 'con', 'keep', 'nine', 'but', 'became', 'other', 'our', 'over', 'rather', 'fifteen', 'some', 'thin', 'is', 'eleven', 'ten', 'hasnt', 'toward', 'bill'})\n"
     ]
    }
   ],
   "source": [
    "from sklearn.feature_extraction import stop_words\n",
    "print(stop_words.ENGLISH_STOP_WORDS)"
   ]
  },
  {
   "cell_type": "markdown",
   "metadata": {},
   "source": [
    "You should have seen a large list of words that looks like:\n",
    "\n",
    "```frozenset({'across', 'mine', 'cannot', ...})```\n",
    "\n",
    "`frozenset` is a type of Python object that is immutable. In this lab you can use it just like an array without conversion."
   ]
  },
  {
   "cell_type": "markdown",
   "metadata": {},
   "source": [
    "Next, test your function with supplying `stop_words.ENGLISH_STOP_WORDS` as the second parameter."
   ]
  },
  {
   "cell_type": "code",
   "execution_count": 35,
   "metadata": {},
   "outputs": [
    {
     "name": "stdout",
     "output_type": "stream",
     "text": [
      "{'bag_of_words': ['ironhack', 'cool', 'love', 'student'], 'term_freq': [[1, 1, 0, 0], [1, 0, 1, 0], [1, 0, 0, 1]]}\n"
     ]
    }
   ],
   "source": [
    "bow = get_bow_from_docs(docs, stop_words.ENGLISH_STOP_WORDS)\n",
    "\n",
    "print(bow)"
   ]
  },
  {
   "cell_type": "markdown",
   "metadata": {},
   "source": [
    "You should have seen:\n",
    "\n",
    "```{'bag_of_words': ['ironhack', 'cool', 'love', 'student'], 'term_freq': [[1, 1, 0, 0], [1, 0, 1, 0], [1, 0, 0, 1]]}```"
   ]
  },
  {
   "cell_type": "code",
   "execution_count": null,
   "metadata": {},
   "outputs": [],
   "source": []
  }
 ],
 "metadata": {
  "kernelspec": {
   "display_name": "Python 3",
   "language": "python",
   "name": "python3"
  },
  "language_info": {
   "codemirror_mode": {
    "name": "ipython",
    "version": 3
   },
   "file_extension": ".py",
   "mimetype": "text/x-python",
   "name": "python",
   "nbconvert_exporter": "python",
   "pygments_lexer": "ipython3",
   "version": "3.6.7"
  }
 },
 "nbformat": 4,
 "nbformat_minor": 2
}
